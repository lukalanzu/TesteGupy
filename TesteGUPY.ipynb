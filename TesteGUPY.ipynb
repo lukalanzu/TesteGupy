{
  "nbformat": 4,
  "nbformat_minor": 0,
  "metadata": {
    "colab": {
      "provenance": []
    },
    "kernelspec": {
      "name": "python3",
      "display_name": "Python 3"
    },
    "language_info": {
      "name": "python"
    }
  },
  "cells": [
    {
      "cell_type": "markdown",
      "source": [
        "##Exercício 1"
      ],
      "metadata": {
        "id": "awEx_Q_4y31N"
      }
    },
    {
      "cell_type": "code",
      "execution_count": 2,
      "metadata": {
        "colab": {
          "base_uri": "https://localhost:8080/"
        },
        "id": "0ip-83sMQ8qT",
        "outputId": "aac014da-e700-45e6-a2e1-0caa0ef8a21e"
      },
      "outputs": [
        {
          "output_type": "stream",
          "name": "stdout",
          "text": [
            "Qual o número que deseja analisar?\n",
            "4\n",
            "O número não está na sequência de Fibonacci\n"
          ]
        }
      ],
      "source": [
        "fibonacci = []\n",
        "aux = 0\n",
        "i = 2\n",
        "fibonacci.append(0)\n",
        "fibonacci.append(1)\n",
        "print(\"Qual o número que deseja analisar?\")\n",
        "num_analisado = int(input())\n",
        "\n",
        "while aux < num_analisado:\n",
        "  aux = fibonacci[i-1] + fibonacci[i-2]\n",
        "  fibonacci.append(aux)\n",
        "  i += 1\n",
        "\n",
        "if num_analisado in fibonacci:\n",
        "  print(\"O número está na sequência de Fibonacci\")\n",
        "else:\n",
        "  print(\"O número não está na sequência de Fibonacci\")"
      ]
    },
    {
      "cell_type": "markdown",
      "source": [
        "##Exercício 2"
      ],
      "metadata": {
        "id": "3O2j5k2By26T"
      }
    },
    {
      "cell_type": "code",
      "source": [
        "print(\"Qual palavra você quer analizar\")\n",
        "palavra_analisada = str(input())\n",
        "lista_caracteres = palavra_analisada\n",
        "count = 0\n",
        "\n",
        "for i in range(len(lista_caracteres)):\n",
        "  if lista_caracteres[i] == 'a' or lista_caracteres[i] == 'A':\n",
        "    count += 1\n",
        "\n",
        "print(\"A letra a aparece\", count, \"vezes na palavra\", palavra_analisada)"
      ],
      "metadata": {
        "colab": {
          "base_uri": "https://localhost:8080/"
        },
        "id": "NqVteHuwS4XH",
        "outputId": "059526ef-d0f8-4e00-ed8e-261efddcd96a"
      },
      "execution_count": 12,
      "outputs": [
        {
          "output_type": "stream",
          "name": "stdout",
          "text": [
            "Qual palavra você quer analizar\n",
            "BAnanA\n",
            "A letra a aparece 3 vezes na palavra BAnanA\n"
          ]
        }
      ]
    },
    {
      "cell_type": "markdown",
      "source": [
        "##Exercício 3"
      ],
      "metadata": {
        "id": "zPIBwpSAy1Dw"
      }
    },
    {
      "cell_type": "code",
      "source": [
        "INDICE = 12\n",
        "SOMA = 0\n",
        "K = 1\n",
        "\n",
        "while K < INDICE:\n",
        "  K = K+1\n",
        "  SOMA = SOMA + K\n",
        "\n",
        "print(SOMA)"
      ],
      "metadata": {
        "colab": {
          "base_uri": "https://localhost:8080/"
        },
        "id": "uH2LbpI2UBex",
        "outputId": "be6c439d-9993-4201-a131-0a8014ffb47a"
      },
      "execution_count": 78,
      "outputs": [
        {
          "output_type": "stream",
          "name": "stdout",
          "text": [
            "77\n"
          ]
        }
      ]
    },
    {
      "cell_type": "markdown",
      "source": [
        "##Exercício 4"
      ],
      "metadata": {
        "id": "LngM5Keeyzs_"
      }
    },
    {
      "cell_type": "code",
      "source": [
        "pip install num2words"
      ],
      "metadata": {
        "colab": {
          "base_uri": "https://localhost:8080/"
        },
        "id": "uVT3qJ7urJLn",
        "outputId": "7bfd36e1-3f50-4679-8d8a-8abdc5f79a0c"
      },
      "execution_count": 64,
      "outputs": [
        {
          "output_type": "stream",
          "name": "stdout",
          "text": [
            "Collecting num2words\n",
            "  Downloading num2words-0.5.13-py3-none-any.whl.metadata (12 kB)\n",
            "Collecting docopt>=0.6.2 (from num2words)\n",
            "  Downloading docopt-0.6.2.tar.gz (25 kB)\n",
            "  Preparing metadata (setup.py) ... \u001b[?25l\u001b[?25hdone\n",
            "Downloading num2words-0.5.13-py3-none-any.whl (143 kB)\n",
            "\u001b[2K   \u001b[90m━━━━━━━━━━━━━━━━━━━━━━━━━━━━━━━━━━━━━━━━\u001b[0m \u001b[32m143.3/143.3 kB\u001b[0m \u001b[31m7.9 MB/s\u001b[0m eta \u001b[36m0:00:00\u001b[0m\n",
            "\u001b[?25hBuilding wheels for collected packages: docopt\n",
            "  Building wheel for docopt (setup.py) ... \u001b[?25l\u001b[?25hdone\n",
            "  Created wheel for docopt: filename=docopt-0.6.2-py2.py3-none-any.whl size=13704 sha256=75e0e06f4230725a1051ec18ba09942b89316c1a7ff327b1312030b184b4ca15\n",
            "  Stored in directory: /root/.cache/pip/wheels/fc/ab/d4/5da2067ac95b36618c629a5f93f809425700506f72c9732fac\n",
            "Successfully built docopt\n",
            "Installing collected packages: docopt, num2words\n",
            "Successfully installed docopt-0.6.2 num2words-0.5.13\n"
          ]
        }
      ]
    },
    {
      "cell_type": "code",
      "source": [
        "#Letra a\n",
        "lista1 = []\n",
        "lista1.append(1)\n",
        "print(\"Quantos elementos você quer na lista?\")\n",
        "aux = int(input())\n",
        "\n",
        "for i in range(aux):\n",
        "  lista1.append(lista1[i] + 2)\n",
        "  i += 1\n",
        "\n",
        "print(lista1)\n",
        "\n",
        "#Letra b\n",
        "lista2 = []\n",
        "lista2.append(2)\n",
        "print(\"Quantos elementos você quer na lista?\")\n",
        "aux = int(input())\n",
        "\n",
        "for i in range(aux):\n",
        "  lista2.append(lista2[i]*2)\n",
        "  i += 1\n",
        "\n",
        "print(lista2)\n",
        "\n",
        "#Letra c\n",
        "lista3 = []\n",
        "lista3.append(0)\n",
        "print(\"Quantos elementos você quer na lista?\")\n",
        "aux = int(input())\n",
        "\n",
        "for i in range(aux):\n",
        "  lista3.append(lista3[i] + 2*i + 1)\n",
        "  i += 1\n",
        "\n",
        "print(lista3)\n",
        "\n",
        "#Letra d\n",
        "lista4 = []\n",
        "lista4.append(4)\n",
        "lista_aux = []\n",
        "lista_aux.append(2)\n",
        "print(\"Quantos elementos você quer na lista?\")\n",
        "aux = int(input())\n",
        "\n",
        "for i in range(aux):\n",
        "  lista_aux.append(lista_aux[i] + 2)\n",
        "  lista4.append(lista_aux[i]**2)\n",
        "  i += 1\n",
        "\n",
        "print(lista4)\n",
        "\n",
        "#Letra e\n",
        "lista5 = []\n",
        "aux = 0\n",
        "lista5.append(1)\n",
        "lista5.append(1)\n",
        "print(\"Quantos elementos você quer na lista\")\n",
        "aux = int(input())\n",
        "\n",
        "for i in range(2, aux):\n",
        "  aux2 = lista5[i-1] + lista5[i-2]\n",
        "  lista5.append(aux2)\n",
        "  i += 1\n",
        "\n",
        "print(lista5)\n",
        "\n",
        "#Letra f\n",
        "from num2words import num2words\n",
        "\n",
        "print(\"Quantos elementos você quer na lista\")\n",
        "aux = int(input())\n",
        "lista6 = []\n",
        "numero = 1\n",
        "\n",
        "while len(lista6) < aux:\n",
        "  numero_extenso = num2words(numero, lang='pt_BR')\n",
        "\n",
        "  if numero_extenso.startswith(\"d\"):\n",
        "    lista6.append(numero)\n",
        "\n",
        "  numero += 1\n",
        "\n",
        "print(lista6)"
      ],
      "metadata": {
        "colab": {
          "base_uri": "https://localhost:8080/"
        },
        "id": "c6GX-h5gV5A8",
        "outputId": "148b9b78-6680-42d1-b53a-5767e9ee5eda"
      },
      "execution_count": 77,
      "outputs": [
        {
          "output_type": "stream",
          "name": "stdout",
          "text": [
            "Quantos elementos você quer na lista?\n",
            "5\n",
            "[1, 3, 5, 7, 9, 11]\n",
            "Quantos elementos você quer na lista?\n",
            "5\n",
            "[2, 4, 8, 16, 32, 64]\n",
            "Quantos elementos você quer na lista?\n",
            "5\n",
            "[0, 1, 4, 9, 16, 25]\n",
            "Quantos elementos você quer na lista?\n",
            "5\n",
            "[4, 4, 16, 36, 64, 100]\n",
            "Quantos elementos você quer na lista\n",
            "5\n",
            "[1, 1, 2, 3, 5]\n",
            "Quantos elementos você quer na lista\n",
            "5\n",
            "[2, 10, 12, 16, 17]\n"
          ]
        }
      ]
    },
    {
      "cell_type": "markdown",
      "source": [
        "##Exercício 5\n",
        "Para descobrir qual interrupitor controla cada lâmpada podemos verificar a temperatura da lâmpada. Na maioria dos casos, quando uma lâmpada fica muito tempo acesa, esta começa a esquentar. Portanto, na sala em que estamos ligamos um interruptor e deixamos ele aceso por um tempo. Após um período consideravel desligamos e ligamos o segundo interruptor. Depois disso, vamos até uma das salas, caso a luz estiver acesa sabemos que aquele interruptor controla aquela lâmpada. Caso a liuz esteja apagada mas a lâmpada está quente o interrupidor que ligamos anteriormente é o que comanda essa sala. Agora, se nenhuma das opções aconteça o interruptor que não mexemos é o que controla. Repetimos o processo mais uma vez, desconsiderando a sala que já descobrimos, e podemos saber qual interruptor controla cada sala."
      ],
      "metadata": {
        "id": "8eFGb9fkxcpF"
      }
    }
  ]
}